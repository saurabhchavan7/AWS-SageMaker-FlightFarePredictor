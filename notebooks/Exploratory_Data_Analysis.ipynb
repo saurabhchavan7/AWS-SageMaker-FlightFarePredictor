{
 "cells": [
  {
   "cell_type": "markdown",
   "id": "0c255d36-64a7-4772-a879-e962e414eb70",
   "metadata": {},
   "source": [
    "## 1. Import Libraries"
   ]
  },
  {
   "cell_type": "code",
   "execution_count": 2,
   "id": "b3ad42fa-4581-4c2b-a887-ab8926722fc9",
   "metadata": {},
   "outputs": [],
   "source": [
    "import numpy as np\n",
    "import pandas as pd\n",
    "import seaborn as sns\n",
    "import matplotlib.pyplot as plt\n",
    "import eda_helper_functions\n",
    "from sklearn.ensemble import IsolationForest\n"
   ]
  },
  {
   "cell_type": "markdown",
   "id": "dce4ef81-453e-4e3d-9872-0aba08c5ae6c",
   "metadata": {},
   "source": [
    "## 2. Read the raining Data"
   ]
  },
  {
   "cell_type": "code",
   "execution_count": 3,
   "id": "20ee8168-5921-4ef2-964b-70cefec41d80",
   "metadata": {},
   "outputs": [],
   "source": [
    "train = pd.read_csv(r\"../data/train_set.csv\")"
   ]
  },
  {
   "cell_type": "code",
   "execution_count": 4,
   "id": "34c5f0a4-e652-40c3-95ff-579f1ed7ce4b",
   "metadata": {},
   "outputs": [
    {
     "data": {
      "text/html": [
       "<div>\n",
       "<style scoped>\n",
       "    .dataframe tbody tr th:only-of-type {\n",
       "        vertical-align: middle;\n",
       "    }\n",
       "\n",
       "    .dataframe tbody tr th {\n",
       "        vertical-align: top;\n",
       "    }\n",
       "\n",
       "    .dataframe thead th {\n",
       "        text-align: right;\n",
       "    }\n",
       "</style>\n",
       "<table border=\"1\" class=\"dataframe\">\n",
       "  <thead>\n",
       "    <tr style=\"text-align: right;\">\n",
       "      <th></th>\n",
       "      <th>airline</th>\n",
       "      <th>date_of_journey</th>\n",
       "      <th>source</th>\n",
       "      <th>destination</th>\n",
       "      <th>dep_time</th>\n",
       "      <th>arrival_time</th>\n",
       "      <th>duration</th>\n",
       "      <th>total_stops</th>\n",
       "      <th>additional_info</th>\n",
       "      <th>price</th>\n",
       "    </tr>\n",
       "  </thead>\n",
       "  <tbody>\n",
       "    <tr>\n",
       "      <th>0</th>\n",
       "      <td>Indigo</td>\n",
       "      <td>2019-06-06</td>\n",
       "      <td>Kolkata</td>\n",
       "      <td>Banglore</td>\n",
       "      <td>20:25:00</td>\n",
       "      <td>23:10:00</td>\n",
       "      <td>165</td>\n",
       "      <td>0.0</td>\n",
       "      <td>No Info</td>\n",
       "      <td>4804</td>\n",
       "    </tr>\n",
       "    <tr>\n",
       "      <th>1</th>\n",
       "      <td>Air India</td>\n",
       "      <td>2019-05-21</td>\n",
       "      <td>Delhi</td>\n",
       "      <td>Cochin</td>\n",
       "      <td>17:15:00</td>\n",
       "      <td>19:15:00</td>\n",
       "      <td>1560</td>\n",
       "      <td>2.0</td>\n",
       "      <td>No Info</td>\n",
       "      <td>11989</td>\n",
       "    </tr>\n",
       "    <tr>\n",
       "      <th>2</th>\n",
       "      <td>Jet Airways</td>\n",
       "      <td>2019-03-24</td>\n",
       "      <td>Kolkata</td>\n",
       "      <td>Banglore</td>\n",
       "      <td>21:10:00</td>\n",
       "      <td>16:20:00</td>\n",
       "      <td>1150</td>\n",
       "      <td>1.0</td>\n",
       "      <td>In-flight meal not included</td>\n",
       "      <td>10031</td>\n",
       "    </tr>\n",
       "    <tr>\n",
       "      <th>3</th>\n",
       "      <td>Indigo</td>\n",
       "      <td>2019-04-01</td>\n",
       "      <td>Delhi</td>\n",
       "      <td>Cochin</td>\n",
       "      <td>14:20:00</td>\n",
       "      <td>17:35:00</td>\n",
       "      <td>195</td>\n",
       "      <td>0.0</td>\n",
       "      <td>No Info</td>\n",
       "      <td>4729</td>\n",
       "    </tr>\n",
       "    <tr>\n",
       "      <th>4</th>\n",
       "      <td>Jet Airways</td>\n",
       "      <td>2019-03-15</td>\n",
       "      <td>Mumbai</td>\n",
       "      <td>Hyderabad</td>\n",
       "      <td>10:20:00</td>\n",
       "      <td>11:50:00</td>\n",
       "      <td>90</td>\n",
       "      <td>0.0</td>\n",
       "      <td>No Info</td>\n",
       "      <td>8040</td>\n",
       "    </tr>\n",
       "    <tr>\n",
       "      <th>...</th>\n",
       "      <td>...</td>\n",
       "      <td>...</td>\n",
       "      <td>...</td>\n",
       "      <td>...</td>\n",
       "      <td>...</td>\n",
       "      <td>...</td>\n",
       "      <td>...</td>\n",
       "      <td>...</td>\n",
       "      <td>...</td>\n",
       "      <td>...</td>\n",
       "    </tr>\n",
       "    <tr>\n",
       "      <th>6690</th>\n",
       "      <td>Jet Airways</td>\n",
       "      <td>2019-05-09</td>\n",
       "      <td>Kolkata</td>\n",
       "      <td>Banglore</td>\n",
       "      <td>09:35:00</td>\n",
       "      <td>23:35:00</td>\n",
       "      <td>840</td>\n",
       "      <td>1.0</td>\n",
       "      <td>No Info</td>\n",
       "      <td>12121</td>\n",
       "    </tr>\n",
       "    <tr>\n",
       "      <th>6691</th>\n",
       "      <td>Jet Airways</td>\n",
       "      <td>2019-05-18</td>\n",
       "      <td>Kolkata</td>\n",
       "      <td>Banglore</td>\n",
       "      <td>09:35:00</td>\n",
       "      <td>19:10:00</td>\n",
       "      <td>575</td>\n",
       "      <td>1.0</td>\n",
       "      <td>No Info</td>\n",
       "      <td>13067</td>\n",
       "    </tr>\n",
       "    <tr>\n",
       "      <th>6692</th>\n",
       "      <td>Jet Airways</td>\n",
       "      <td>2019-05-24</td>\n",
       "      <td>Kolkata</td>\n",
       "      <td>Banglore</td>\n",
       "      <td>20:00:00</td>\n",
       "      <td>23:35:00</td>\n",
       "      <td>1655</td>\n",
       "      <td>1.0</td>\n",
       "      <td>In-flight meal not included</td>\n",
       "      <td>10844</td>\n",
       "    </tr>\n",
       "    <tr>\n",
       "      <th>6693</th>\n",
       "      <td>Multiple Carriers</td>\n",
       "      <td>2019-06-03</td>\n",
       "      <td>Delhi</td>\n",
       "      <td>Cochin</td>\n",
       "      <td>10:35:00</td>\n",
       "      <td>19:00:00</td>\n",
       "      <td>505</td>\n",
       "      <td>1.0</td>\n",
       "      <td>No Info</td>\n",
       "      <td>10877</td>\n",
       "    </tr>\n",
       "    <tr>\n",
       "      <th>6694</th>\n",
       "      <td>Air India</td>\n",
       "      <td>2019-06-15</td>\n",
       "      <td>Delhi</td>\n",
       "      <td>Cochin</td>\n",
       "      <td>05:10:00</td>\n",
       "      <td>08:00:00</td>\n",
       "      <td>170</td>\n",
       "      <td>0.0</td>\n",
       "      <td>No Info</td>\n",
       "      <td>5201</td>\n",
       "    </tr>\n",
       "  </tbody>\n",
       "</table>\n",
       "<p>6695 rows × 10 columns</p>\n",
       "</div>"
      ],
      "text/plain": [
       "                airline date_of_journey   source destination  dep_time  \\\n",
       "0                Indigo      2019-06-06  Kolkata    Banglore  20:25:00   \n",
       "1             Air India      2019-05-21    Delhi      Cochin  17:15:00   \n",
       "2           Jet Airways      2019-03-24  Kolkata    Banglore  21:10:00   \n",
       "3                Indigo      2019-04-01    Delhi      Cochin  14:20:00   \n",
       "4           Jet Airways      2019-03-15   Mumbai   Hyderabad  10:20:00   \n",
       "...                 ...             ...      ...         ...       ...   \n",
       "6690        Jet Airways      2019-05-09  Kolkata    Banglore  09:35:00   \n",
       "6691        Jet Airways      2019-05-18  Kolkata    Banglore  09:35:00   \n",
       "6692        Jet Airways      2019-05-24  Kolkata    Banglore  20:00:00   \n",
       "6693  Multiple Carriers      2019-06-03    Delhi      Cochin  10:35:00   \n",
       "6694          Air India      2019-06-15    Delhi      Cochin  05:10:00   \n",
       "\n",
       "     arrival_time  duration  total_stops              additional_info  price  \n",
       "0        23:10:00       165          0.0                      No Info   4804  \n",
       "1        19:15:00      1560          2.0                      No Info  11989  \n",
       "2        16:20:00      1150          1.0  In-flight meal not included  10031  \n",
       "3        17:35:00       195          0.0                      No Info   4729  \n",
       "4        11:50:00        90          0.0                      No Info   8040  \n",
       "...           ...       ...          ...                          ...    ...  \n",
       "6690     23:35:00       840          1.0                      No Info  12121  \n",
       "6691     19:10:00       575          1.0                      No Info  13067  \n",
       "6692     23:35:00      1655          1.0  In-flight meal not included  10844  \n",
       "6693     19:00:00       505          1.0                      No Info  10877  \n",
       "6694     08:00:00       170          0.0                      No Info   5201  \n",
       "\n",
       "[6695 rows x 10 columns]"
      ]
     },
     "execution_count": 4,
     "metadata": {},
     "output_type": "execute_result"
    }
   ],
   "source": [
    "train"
   ]
  },
  {
   "cell_type": "code",
   "execution_count": 5,
   "id": "07874d4c-9f5a-4440-8cbc-6bc0192bb43e",
   "metadata": {},
   "outputs": [
    {
     "data": {
      "text/plain": [
       "airline             object\n",
       "date_of_journey     object\n",
       "source              object\n",
       "destination         object\n",
       "dep_time            object\n",
       "arrival_time        object\n",
       "duration             int64\n",
       "total_stops        float64\n",
       "additional_info     object\n",
       "price                int64\n",
       "dtype: object"
      ]
     },
     "execution_count": 5,
     "metadata": {},
     "output_type": "execute_result"
    }
   ],
   "source": [
    "# will check the data types \n",
    "# will see if they are valid or not \n",
    "# since based on types of variable will do analysis (numeric/categoric/date-time)\n",
    "\n",
    "train.dtypes"
   ]
  },
  {
   "cell_type": "code",
   "execution_count": 6,
   "id": "1f1bdd12-b378-434e-b6cc-ec9a02e5cd9c",
   "metadata": {},
   "outputs": [],
   "source": [
    "# will convert date_of_journey, dep_time, arrival_time from object ---> datetime\n",
    "\n",
    "train = train.assign(**{\n",
    "    col: pd.to_datetime(train.loc[:,col],dayfirst=True)\n",
    "    for col in [\"date_of_journey\",\"dep_time\",\"arrival_time\"]\n",
    "})"
   ]
  },
  {
   "cell_type": "code",
   "execution_count": 7,
   "id": "73b60021-a44c-464a-9489-55681d61b6c1",
   "metadata": {},
   "outputs": [
    {
     "data": {
      "text/plain": [
       "airline                    object\n",
       "date_of_journey    datetime64[ns]\n",
       "source                     object\n",
       "destination                object\n",
       "dep_time           datetime64[ns]\n",
       "arrival_time       datetime64[ns]\n",
       "duration                    int64\n",
       "total_stops               float64\n",
       "additional_info            object\n",
       "price                       int64\n",
       "dtype: object"
      ]
     },
     "execution_count": 7,
     "metadata": {},
     "output_type": "execute_result"
    }
   ],
   "source": [
    "train.dtypes"
   ]
  },
  {
   "cell_type": "markdown",
   "id": "4fc0552b-8772-4389-8389-0d3a36609934",
   "metadata": {},
   "source": [
    "## 3. High-level Summary of Data"
   ]
  },
  {
   "cell_type": "code",
   "execution_count": 8,
   "id": "f28f33cf-9cef-49f0-84f3-21890d15cc34",
   "metadata": {},
   "outputs": [
    {
     "name": "stdout",
     "output_type": "stream",
     "text": [
      "<class 'pandas.core.frame.DataFrame'>\n",
      "RangeIndex: 6695 entries, 0 to 6694\n",
      "Data columns (total 10 columns):\n",
      " #   Column           Non-Null Count  Dtype         \n",
      "---  ------           --------------  -----         \n",
      " 0   airline          6695 non-null   object        \n",
      " 1   date_of_journey  6695 non-null   datetime64[ns]\n",
      " 2   source           6695 non-null   object        \n",
      " 3   destination      6695 non-null   object        \n",
      " 4   dep_time         6695 non-null   datetime64[ns]\n",
      " 5   arrival_time     6695 non-null   datetime64[ns]\n",
      " 6   duration         6695 non-null   int64         \n",
      " 7   total_stops      6695 non-null   float64       \n",
      " 8   additional_info  6695 non-null   object        \n",
      " 9   price            6695 non-null   int64         \n",
      "dtypes: datetime64[ns](3), float64(1), int64(2), object(4)\n",
      "memory usage: 523.2+ KB\n"
     ]
    }
   ],
   "source": [
    "train.info()"
   ]
  },
  {
   "cell_type": "code",
   "execution_count": 9,
   "id": "7050f9a7-6ece-4dc9-8410-2dd2fbc7f1c2",
   "metadata": {},
   "outputs": [
    {
     "data": {
      "text/html": [
       "<div>\n",
       "<style scoped>\n",
       "    .dataframe tbody tr th:only-of-type {\n",
       "        vertical-align: middle;\n",
       "    }\n",
       "\n",
       "    .dataframe tbody tr th {\n",
       "        vertical-align: top;\n",
       "    }\n",
       "\n",
       "    .dataframe thead th {\n",
       "        text-align: right;\n",
       "    }\n",
       "</style>\n",
       "<table border=\"1\" class=\"dataframe\">\n",
       "  <thead>\n",
       "    <tr style=\"text-align: right;\">\n",
       "      <th></th>\n",
       "      <th>duration</th>\n",
       "      <th>total_stops</th>\n",
       "      <th>price</th>\n",
       "    </tr>\n",
       "  </thead>\n",
       "  <tbody>\n",
       "    <tr>\n",
       "      <th>count</th>\n",
       "      <td>6695.000000</td>\n",
       "      <td>6695.000000</td>\n",
       "      <td>6695.000000</td>\n",
       "    </tr>\n",
       "    <tr>\n",
       "      <th>mean</th>\n",
       "      <td>634.283794</td>\n",
       "      <td>0.801792</td>\n",
       "      <td>9019.358626</td>\n",
       "    </tr>\n",
       "    <tr>\n",
       "      <th>std</th>\n",
       "      <td>502.476165</td>\n",
       "      <td>0.655010</td>\n",
       "      <td>4557.219221</td>\n",
       "    </tr>\n",
       "    <tr>\n",
       "      <th>min</th>\n",
       "      <td>75.000000</td>\n",
       "      <td>0.000000</td>\n",
       "      <td>1759.000000</td>\n",
       "    </tr>\n",
       "    <tr>\n",
       "      <th>25%</th>\n",
       "      <td>170.000000</td>\n",
       "      <td>0.000000</td>\n",
       "      <td>5222.500000</td>\n",
       "    </tr>\n",
       "    <tr>\n",
       "      <th>50%</th>\n",
       "      <td>510.000000</td>\n",
       "      <td>1.000000</td>\n",
       "      <td>8151.000000</td>\n",
       "    </tr>\n",
       "    <tr>\n",
       "      <th>75%</th>\n",
       "      <td>925.000000</td>\n",
       "      <td>1.000000</td>\n",
       "      <td>12284.000000</td>\n",
       "    </tr>\n",
       "    <tr>\n",
       "      <th>max</th>\n",
       "      <td>2860.000000</td>\n",
       "      <td>4.000000</td>\n",
       "      <td>62427.000000</td>\n",
       "    </tr>\n",
       "  </tbody>\n",
       "</table>\n",
       "</div>"
      ],
      "text/plain": [
       "          duration  total_stops         price\n",
       "count  6695.000000  6695.000000   6695.000000\n",
       "mean    634.283794     0.801792   9019.358626\n",
       "std     502.476165     0.655010   4557.219221\n",
       "min      75.000000     0.000000   1759.000000\n",
       "25%     170.000000     0.000000   5222.500000\n",
       "50%     510.000000     1.000000   8151.000000\n",
       "75%     925.000000     1.000000  12284.000000\n",
       "max    2860.000000     4.000000  62427.000000"
      ]
     },
     "execution_count": 9,
     "metadata": {},
     "output_type": "execute_result"
    }
   ],
   "source": [
    "# for numeric variables \n",
    "train.describe(include='number')"
   ]
  },
  {
   "cell_type": "markdown",
   "id": "dd296717-207d-4901-ad68-43a621be0d19",
   "metadata": {},
   "source": [
    "- in duration column by observing min max we can see in duration columns there are extreme values \n",
    "- total stops is more of a categorical variables so it doesnt make sense to consider it as a numeric variable so will consider it as categorical\n"
   ]
  },
  {
   "cell_type": "code",
   "execution_count": 10,
   "id": "ff421f3a-2643-4e54-b33a-a162e4fbb13b",
   "metadata": {},
   "outputs": [
    {
     "data": {
      "text/html": [
       "<div>\n",
       "<style scoped>\n",
       "    .dataframe tbody tr th:only-of-type {\n",
       "        vertical-align: middle;\n",
       "    }\n",
       "\n",
       "    .dataframe tbody tr th {\n",
       "        vertical-align: top;\n",
       "    }\n",
       "\n",
       "    .dataframe thead th {\n",
       "        text-align: right;\n",
       "    }\n",
       "</style>\n",
       "<table border=\"1\" class=\"dataframe\">\n",
       "  <thead>\n",
       "    <tr style=\"text-align: right;\">\n",
       "      <th></th>\n",
       "      <th>airline</th>\n",
       "      <th>source</th>\n",
       "      <th>destination</th>\n",
       "      <th>total_stops</th>\n",
       "      <th>additional_info</th>\n",
       "    </tr>\n",
       "  </thead>\n",
       "  <tbody>\n",
       "    <tr>\n",
       "      <th>count</th>\n",
       "      <td>6695</td>\n",
       "      <td>6695</td>\n",
       "      <td>6695</td>\n",
       "      <td>6695.0</td>\n",
       "      <td>6695</td>\n",
       "    </tr>\n",
       "    <tr>\n",
       "      <th>unique</th>\n",
       "      <td>8</td>\n",
       "      <td>5</td>\n",
       "      <td>6</td>\n",
       "      <td>5.0</td>\n",
       "      <td>8</td>\n",
       "    </tr>\n",
       "    <tr>\n",
       "      <th>top</th>\n",
       "      <td>Jet Airways</td>\n",
       "      <td>Delhi</td>\n",
       "      <td>Cochin</td>\n",
       "      <td>1.0</td>\n",
       "      <td>No Info</td>\n",
       "    </tr>\n",
       "    <tr>\n",
       "      <th>freq</th>\n",
       "      <td>2381</td>\n",
       "      <td>2776</td>\n",
       "      <td>2776</td>\n",
       "      <td>3643.0</td>\n",
       "      <td>5222</td>\n",
       "    </tr>\n",
       "  </tbody>\n",
       "</table>\n",
       "</div>"
      ],
      "text/plain": [
       "            airline source destination  total_stops additional_info\n",
       "count          6695   6695        6695       6695.0            6695\n",
       "unique            8      5           6          5.0               8\n",
       "top     Jet Airways  Delhi      Cochin          1.0         No Info\n",
       "freq           2381   2776        2776       3643.0            5222"
      ]
     },
     "execution_count": 10,
     "metadata": {},
     "output_type": "execute_result"
    }
   ],
   "source": [
    "# For Categorical Variables\n",
    "\n",
    "#train.describe(include=\"O\")\n",
    "\n",
    "(\n",
    "    train\n",
    "    .assign(total_stops = train[\"total_stops\"].astype(object))\n",
    "    .describe(include=\"O\")\n",
    ")"
   ]
  },
  {
   "cell_type": "markdown",
   "id": "3a840b9f-e557-4c36-8c6c-fc0245cf594e",
   "metadata": {},
   "source": [
    "- in airline we have 8 uniques values, the most frequent value is jet airways and it occurs 2381 times of 6695\n",
    "- so with this we can get idea of all the categorical coilumns "
   ]
  },
  {
   "cell_type": "markdown",
   "id": "f0731c3b-f1b1-47d5-aa09-84b2ece46158",
   "metadata": {},
   "source": [
    "## 4. High-Level analysis of Missing Values\n",
    "\n"
   ]
  },
  {
   "cell_type": "code",
   "execution_count": 12,
   "id": "347bae83-880b-4aff-9839-6a315cad8b65",
   "metadata": {},
   "outputs": [
    {
     "data": {
      "text/html": [
       "<div>\n",
       "<style scoped>\n",
       "    .dataframe tbody tr th:only-of-type {\n",
       "        vertical-align: middle;\n",
       "    }\n",
       "\n",
       "    .dataframe tbody tr th {\n",
       "        vertical-align: top;\n",
       "    }\n",
       "\n",
       "    .dataframe thead th {\n",
       "        text-align: right;\n",
       "    }\n",
       "</style>\n",
       "<table border=\"1\" class=\"dataframe\">\n",
       "  <thead>\n",
       "    <tr style=\"text-align: right;\">\n",
       "      <th></th>\n",
       "      <th>count</th>\n",
       "      <th>percentage</th>\n",
       "    </tr>\n",
       "    <tr>\n",
       "      <th>variable</th>\n",
       "      <th></th>\n",
       "      <th></th>\n",
       "    </tr>\n",
       "  </thead>\n",
       "  <tbody>\n",
       "  </tbody>\n",
       "</table>\n",
       "</div>"
      ],
      "text/plain": [
       "Empty DataFrame\n",
       "Columns: [count, percentage]\n",
       "Index: []"
      ]
     },
     "execution_count": 12,
     "metadata": {},
     "output_type": "execute_result"
    }
   ],
   "source": [
    "eda_helper_functions.missing_info(train)\n"
   ]
  },
  {
   "cell_type": "markdown",
   "id": "d54010c2-6fde-4d52-a115-9cbf3ceabd61",
   "metadata": {},
   "source": [
    "- our dataset dont have any missing values hence its empty"
   ]
  },
  {
   "cell_type": "code",
   "execution_count": 13,
   "id": "204701cc-a3b4-4da1-8fad-63921eb56d31",
   "metadata": {},
   "outputs": [],
   "source": [
    "#eda_helper_functions.plot_missing_info(train)"
   ]
  },
  {
   "cell_type": "code",
   "execution_count": 14,
   "id": "a883a175-e268-475c-91d1-988a9321df8b",
   "metadata": {},
   "outputs": [],
   "source": [
    "# matrix method for finding missing values\n",
    "#!pip install missingno --quiet"
   ]
  },
  {
   "cell_type": "markdown",
   "id": "03493bd4-050e-4ec6-8ed4-0b6a6c8a227b",
   "metadata": {},
   "source": [
    "## 5. High-Level analysis of outliers\n"
   ]
  },
  {
   "cell_type": "markdown",
   "id": "9e2dba78-6fee-422d-b29f-2e9a7d8f11f2",
   "metadata": {},
   "source": [
    "- will use IsolationForest\n",
    "- in our dataset will create a seperate column that will indicate it is outlier or not"
   ]
  },
  {
   "cell_type": "code",
   "execution_count": 15,
   "id": "0721cbf1-d2e9-4d22-9251-01b9cd8423a8",
   "metadata": {},
   "outputs": [],
   "source": [
    "forest = IsolationForest(n_estimators=10, random_state=42)"
   ]
  },
  {
   "cell_type": "code",
   "execution_count": 16,
   "id": "62197063-41c4-4855-ab0f-8672882b53f7",
   "metadata": {},
   "outputs": [
    {
     "data": {
      "text/html": [
       "<div>\n",
       "<style scoped>\n",
       "    .dataframe tbody tr th:only-of-type {\n",
       "        vertical-align: middle;\n",
       "    }\n",
       "\n",
       "    .dataframe tbody tr th {\n",
       "        vertical-align: top;\n",
       "    }\n",
       "\n",
       "    .dataframe thead th {\n",
       "        text-align: right;\n",
       "    }\n",
       "</style>\n",
       "<table border=\"1\" class=\"dataframe\">\n",
       "  <thead>\n",
       "    <tr style=\"text-align: right;\">\n",
       "      <th></th>\n",
       "      <th>airline</th>\n",
       "      <th>date_of_journey</th>\n",
       "      <th>source</th>\n",
       "      <th>destination</th>\n",
       "      <th>dep_time</th>\n",
       "      <th>arrival_time</th>\n",
       "      <th>duration</th>\n",
       "      <th>total_stops</th>\n",
       "      <th>additional_info</th>\n",
       "      <th>price</th>\n",
       "      <th>outlier</th>\n",
       "    </tr>\n",
       "  </thead>\n",
       "  <tbody>\n",
       "    <tr>\n",
       "      <th>1</th>\n",
       "      <td>Air India</td>\n",
       "      <td>2019-05-21</td>\n",
       "      <td>Delhi</td>\n",
       "      <td>Cochin</td>\n",
       "      <td>2024-07-06 17:15:00</td>\n",
       "      <td>2024-07-06 19:15:00</td>\n",
       "      <td>1560</td>\n",
       "      <td>2.0</td>\n",
       "      <td>No Info</td>\n",
       "      <td>11989</td>\n",
       "      <td>-1</td>\n",
       "    </tr>\n",
       "    <tr>\n",
       "      <th>2</th>\n",
       "      <td>Jet Airways</td>\n",
       "      <td>2019-03-24</td>\n",
       "      <td>Kolkata</td>\n",
       "      <td>Banglore</td>\n",
       "      <td>2024-07-06 21:10:00</td>\n",
       "      <td>2024-07-06 16:20:00</td>\n",
       "      <td>1150</td>\n",
       "      <td>1.0</td>\n",
       "      <td>In-flight meal not included</td>\n",
       "      <td>10031</td>\n",
       "      <td>-1</td>\n",
       "    </tr>\n",
       "    <tr>\n",
       "      <th>3</th>\n",
       "      <td>Indigo</td>\n",
       "      <td>2019-04-01</td>\n",
       "      <td>Delhi</td>\n",
       "      <td>Cochin</td>\n",
       "      <td>2024-07-06 14:20:00</td>\n",
       "      <td>2024-07-06 17:35:00</td>\n",
       "      <td>195</td>\n",
       "      <td>0.0</td>\n",
       "      <td>No Info</td>\n",
       "      <td>4729</td>\n",
       "      <td>-1</td>\n",
       "    </tr>\n",
       "    <tr>\n",
       "      <th>4</th>\n",
       "      <td>Jet Airways</td>\n",
       "      <td>2019-03-15</td>\n",
       "      <td>Mumbai</td>\n",
       "      <td>Hyderabad</td>\n",
       "      <td>2024-07-06 10:20:00</td>\n",
       "      <td>2024-07-06 11:50:00</td>\n",
       "      <td>90</td>\n",
       "      <td>0.0</td>\n",
       "      <td>No Info</td>\n",
       "      <td>8040</td>\n",
       "      <td>-1</td>\n",
       "    </tr>\n",
       "    <tr>\n",
       "      <th>7</th>\n",
       "      <td>Spicejet</td>\n",
       "      <td>2019-05-18</td>\n",
       "      <td>Kolkata</td>\n",
       "      <td>Banglore</td>\n",
       "      <td>2024-07-06 15:05:00</td>\n",
       "      <td>2024-07-06 20:20:00</td>\n",
       "      <td>315</td>\n",
       "      <td>1.0</td>\n",
       "      <td>No Info</td>\n",
       "      <td>4963</td>\n",
       "      <td>-1</td>\n",
       "    </tr>\n",
       "    <tr>\n",
       "      <th>...</th>\n",
       "      <td>...</td>\n",
       "      <td>...</td>\n",
       "      <td>...</td>\n",
       "      <td>...</td>\n",
       "      <td>...</td>\n",
       "      <td>...</td>\n",
       "      <td>...</td>\n",
       "      <td>...</td>\n",
       "      <td>...</td>\n",
       "      <td>...</td>\n",
       "      <td>...</td>\n",
       "    </tr>\n",
       "    <tr>\n",
       "      <th>6685</th>\n",
       "      <td>Jet Airways</td>\n",
       "      <td>2019-03-15</td>\n",
       "      <td>Mumbai</td>\n",
       "      <td>Hyderabad</td>\n",
       "      <td>2024-07-06 10:20:00</td>\n",
       "      <td>2024-07-06 11:50:00</td>\n",
       "      <td>90</td>\n",
       "      <td>0.0</td>\n",
       "      <td>In-flight meal not included</td>\n",
       "      <td>4160</td>\n",
       "      <td>-1</td>\n",
       "    </tr>\n",
       "    <tr>\n",
       "      <th>6686</th>\n",
       "      <td>Indigo</td>\n",
       "      <td>2019-05-03</td>\n",
       "      <td>Chennai</td>\n",
       "      <td>Kolkata</td>\n",
       "      <td>2024-07-06 22:05:00</td>\n",
       "      <td>2024-07-06 00:25:00</td>\n",
       "      <td>140</td>\n",
       "      <td>0.0</td>\n",
       "      <td>No Info</td>\n",
       "      <td>5277</td>\n",
       "      <td>-1</td>\n",
       "    </tr>\n",
       "    <tr>\n",
       "      <th>6687</th>\n",
       "      <td>Indigo</td>\n",
       "      <td>2019-03-03</td>\n",
       "      <td>Mumbai</td>\n",
       "      <td>Hyderabad</td>\n",
       "      <td>2024-07-06 20:05:00</td>\n",
       "      <td>2024-07-06 21:35:00</td>\n",
       "      <td>90</td>\n",
       "      <td>0.0</td>\n",
       "      <td>No Info</td>\n",
       "      <td>5232</td>\n",
       "      <td>-1</td>\n",
       "    </tr>\n",
       "    <tr>\n",
       "      <th>6688</th>\n",
       "      <td>Jet Airways</td>\n",
       "      <td>2019-06-24</td>\n",
       "      <td>Delhi</td>\n",
       "      <td>Cochin</td>\n",
       "      <td>2024-07-06 19:15:00</td>\n",
       "      <td>2024-07-06 19:00:00</td>\n",
       "      <td>1425</td>\n",
       "      <td>1.0</td>\n",
       "      <td>In-flight meal not included</td>\n",
       "      <td>10262</td>\n",
       "      <td>-1</td>\n",
       "    </tr>\n",
       "    <tr>\n",
       "      <th>6692</th>\n",
       "      <td>Jet Airways</td>\n",
       "      <td>2019-05-24</td>\n",
       "      <td>Kolkata</td>\n",
       "      <td>Banglore</td>\n",
       "      <td>2024-07-06 20:00:00</td>\n",
       "      <td>2024-07-06 23:35:00</td>\n",
       "      <td>1655</td>\n",
       "      <td>1.0</td>\n",
       "      <td>In-flight meal not included</td>\n",
       "      <td>10844</td>\n",
       "      <td>-1</td>\n",
       "    </tr>\n",
       "  </tbody>\n",
       "</table>\n",
       "<p>3164 rows × 11 columns</p>\n",
       "</div>"
      ],
      "text/plain": [
       "          airline date_of_journey   source destination            dep_time  \\\n",
       "1       Air India      2019-05-21    Delhi      Cochin 2024-07-06 17:15:00   \n",
       "2     Jet Airways      2019-03-24  Kolkata    Banglore 2024-07-06 21:10:00   \n",
       "3          Indigo      2019-04-01    Delhi      Cochin 2024-07-06 14:20:00   \n",
       "4     Jet Airways      2019-03-15   Mumbai   Hyderabad 2024-07-06 10:20:00   \n",
       "7        Spicejet      2019-05-18  Kolkata    Banglore 2024-07-06 15:05:00   \n",
       "...           ...             ...      ...         ...                 ...   \n",
       "6685  Jet Airways      2019-03-15   Mumbai   Hyderabad 2024-07-06 10:20:00   \n",
       "6686       Indigo      2019-05-03  Chennai     Kolkata 2024-07-06 22:05:00   \n",
       "6687       Indigo      2019-03-03   Mumbai   Hyderabad 2024-07-06 20:05:00   \n",
       "6688  Jet Airways      2019-06-24    Delhi      Cochin 2024-07-06 19:15:00   \n",
       "6692  Jet Airways      2019-05-24  Kolkata    Banglore 2024-07-06 20:00:00   \n",
       "\n",
       "            arrival_time  duration  total_stops              additional_info  \\\n",
       "1    2024-07-06 19:15:00      1560          2.0                      No Info   \n",
       "2    2024-07-06 16:20:00      1150          1.0  In-flight meal not included   \n",
       "3    2024-07-06 17:35:00       195          0.0                      No Info   \n",
       "4    2024-07-06 11:50:00        90          0.0                      No Info   \n",
       "7    2024-07-06 20:20:00       315          1.0                      No Info   \n",
       "...                  ...       ...          ...                          ...   \n",
       "6685 2024-07-06 11:50:00        90          0.0  In-flight meal not included   \n",
       "6686 2024-07-06 00:25:00       140          0.0                      No Info   \n",
       "6687 2024-07-06 21:35:00        90          0.0                      No Info   \n",
       "6688 2024-07-06 19:00:00      1425          1.0  In-flight meal not included   \n",
       "6692 2024-07-06 23:35:00      1655          1.0  In-flight meal not included   \n",
       "\n",
       "      price  outlier  \n",
       "1     11989       -1  \n",
       "2     10031       -1  \n",
       "3      4729       -1  \n",
       "4      8040       -1  \n",
       "7      4963       -1  \n",
       "...     ...      ...  \n",
       "6685   4160       -1  \n",
       "6686   5277       -1  \n",
       "6687   5232       -1  \n",
       "6688  10262       -1  \n",
       "6692  10844       -1  \n",
       "\n",
       "[3164 rows x 11 columns]"
      ]
     },
     "execution_count": 16,
     "metadata": {},
     "output_type": "execute_result"
    }
   ],
   "source": [
    "(\n",
    "    train\n",
    "    .assign(outlier=forest.fit_predict(train\n",
    "                                      .drop(columns=\"price\")\n",
    "                                      .select_dtypes(include=\"number\")))\n",
    "    .query(\"outlier == -1\")\n",
    "    #.duration\n",
    "    #.describe()\n",
    ")\n",
    "\n",
    "# we are making a new feature called outlier\n",
    "# we are using a isolation forest algorithm on training data\n",
    "# then will drop price column\n",
    "# will just use input numeric feature\n",
    "# reults we can see the last columns are 1 or -1\n",
    "# now we want the values which are outlier for which will use query method to filter our dataframe     \n"
   ]
  },
  {
   "cell_type": "code",
   "execution_count": null,
   "id": "882f58de-0456-4954-a56d-1af5d38cab98",
   "metadata": {},
   "outputs": [],
   "source": []
  },
  {
   "cell_type": "markdown",
   "id": "fbd4566a-b779-4d1d-988d-4670c7b0747f",
   "metadata": {},
   "source": [
    "## 6. Pair Plots"
   ]
  },
  {
   "cell_type": "code",
   "execution_count": 18,
   "id": "86de0a58-8eba-40d7-b890-8692e30721e8",
   "metadata": {},
   "outputs": [
    {
     "data": {
      "text/html": [
       "<h2>Pair Plots</h2>"
      ],
      "text/plain": [
       "<IPython.core.display.HTML object>"
      ]
     },
     "metadata": {},
     "output_type": "display_data"
    },
    {
     "data": {
      "image/png": "[encoded data removed]",
      "text/plain": [
       "<Figure size 1350x900 with 6 Axes>"
      ]
     },
     "metadata": {},
     "output_type": "display_data"
    }
   ],
   "source": [
    "# Pair Plots will give us good understanding of our numeric variables\n",
    "\n",
    "eda_helper_functions.pair_plots(train)"
   ]
  },
  {
   "cell_type": "markdown",
   "id": "a4e92e10-1409-4bda-9141-b4dff54c605d",
   "metadata": {},
   "source": [
    "- **pair plot is a symmetric graph so to avoid the repeated information they are just showing the lower half (in code for this we kept corner = True)**\n",
    "- numeric variable we had was total stop, duration and price\n",
    "- so for each combination it made a pair plot\n",
    "- we can see a linear relationship between price and duration longer the flights higher the price  \n",
    "- if we see duration vs total stops we can see if total stops are 0 the duration is very small\n"
   ]
  },
  {
   "cell_type": "markdown",
   "id": "c0a82bf5-4e88-4000-a3ea-e74aa6964079",
   "metadata": {},
   "source": [
    "## 7. Correlation Analysis "
   ]
  },
  {
   "cell_type": "code",
   "execution_count": 20,
   "id": "986ee64d-53c3-4388-b847-5a368f09dff3",
   "metadata": {},
   "outputs": [
    {
     "data": {
      "image/png": "[encoded data removed]",
      "text/plain": [
       "<Figure size 1200x600 with 2 Axes>"
      ]
     },
     "metadata": {},
     "output_type": "display_data"
    }
   ],
   "source": [
    "# Multicollinearity is not a good idea \n",
    "# hence its imp to understand correlation\n",
    "\n",
    "eda_helper_functions.correlation_heatmap(train)"
   ]
  },
  {
   "cell_type": "code",
   "execution_count": 21,
   "id": "ca4217fe-64c8-4666-8a06-8ea569b5c686",
   "metadata": {},
   "outputs": [
    {
     "data": {
      "text/html": [
       "<div>\n",
       "<style scoped>\n",
       "    .dataframe tbody tr th:only-of-type {\n",
       "        vertical-align: middle;\n",
       "    }\n",
       "\n",
       "    .dataframe tbody tr th {\n",
       "        vertical-align: top;\n",
       "    }\n",
       "\n",
       "    .dataframe thead th {\n",
       "        text-align: right;\n",
       "    }\n",
       "</style>\n",
       "<table border=\"1\" class=\"dataframe\">\n",
       "  <thead>\n",
       "    <tr style=\"text-align: right;\">\n",
       "      <th></th>\n",
       "      <th>duration</th>\n",
       "      <th>total_stops</th>\n",
       "      <th>price</th>\n",
       "    </tr>\n",
       "  </thead>\n",
       "  <tbody>\n",
       "    <tr>\n",
       "      <th>duration</th>\n",
       "      <td>1.000000</td>\n",
       "      <td>0.820204</td>\n",
       "      <td>0.693770</td>\n",
       "    </tr>\n",
       "    <tr>\n",
       "      <th>total_stops</th>\n",
       "      <td>0.820204</td>\n",
       "      <td>1.000000</td>\n",
       "      <td>0.715038</td>\n",
       "    </tr>\n",
       "    <tr>\n",
       "      <th>price</th>\n",
       "      <td>0.693770</td>\n",
       "      <td>0.715038</td>\n",
       "      <td>1.000000</td>\n",
       "    </tr>\n",
       "  </tbody>\n",
       "</table>\n",
       "</div>"
      ],
      "text/plain": [
       "             duration  total_stops     price\n",
       "duration     1.000000     0.820204  0.693770\n",
       "total_stops  0.820204     1.000000  0.715038\n",
       "price        0.693770     0.715038  1.000000"
      ]
     },
     "execution_count": 21,
     "metadata": {},
     "output_type": "execute_result"
    }
   ],
   "source": [
    "train.corr(method=\"spearman\", numeric_only=True)"
   ]
  },
  {
   "cell_type": "markdown",
   "id": "14a7253d-6c14-4bf0-b6cc-70664a3be3a8",
   "metadata": {},
   "source": [
    "- same thing here also pair wise numeric feature hiding the upper half and showing only the lower half since same info is convey in top half as well\n",
    "- plot shows high correlation between price vs duration, price vs total_stops\n",
    "- as duration increases price increases, as stops increases the price also increases\n",
    "- but if we see the pair plots in which total stop vs price we can see for 0 stops largest price is somewhere arounf 30k but for stop 1 and 2 its much more  so because of this extreme values the correlation value may have got influenced by that\n",
    "- so just looking at correlation map we can ssume that total stops vs price are highly correlated but if we see the pair plot there are some data points in stop 2 and 3 which has extreme value due to which the correlation value got influenced\n"
   ]
  },
  {
   "cell_type": "code",
   "execution_count": 22,
   "id": "232fa1c9-2819-4489-af58-0850f1413245",
   "metadata": {},
   "outputs": [
    {
     "name": "stderr",
     "output_type": "stream",
     "text": [
      "D:\\SAURABH\\ANACONDA\\ANACONDA\\lib\\site-packages\\seaborn\\matrix.py:260: FutureWarning: Format strings passed to MaskedConstant are ignored, but in future may error or produce different behavior\n",
      "  annotation = (\"{:\" + self.fmt + \"}\").format(val)\n"
     ]
    },
    {
     "data": {
      "image/png": "[encoded data removed]",
      "text/plain": [
       "<Figure size 1200x600 with 2 Axes>"
      ]
     },
     "metadata": {},
     "output_type": "display_data"
    }
   ],
   "source": [
    "# will see correlation for categorical features\n",
    "\n",
    "eda_helper_functions.cramersV_heatmap(train)"
   ]
  },
  {
   "cell_type": "code",
   "execution_count": null,
   "id": "1eaa06d4-88cd-42eb-bf2e-c3d673b67bd0",
   "metadata": {},
   "outputs": [],
   "source": []
  }
 ],
 "metadata": {
  "kernelspec": {
   "display_name": "Python 3 (ipykernel)",
   "language": "python",
   "name": "python3"
  },
  "language_info": {
   "codemirror_mode": {
    "name": "ipython",
    "version": 3
   },
   "file_extension": ".py",
   "mimetype": "text/x-python",
   "name": "python",
   "nbconvert_exporter": "python",
   "pygments_lexer": "ipython3",
   "version": "3.10.9"
  }
 },
 "nbformat": 4,
 "nbformat_minor": 5
}
